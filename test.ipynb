{
 "cells": [
  {
   "cell_type": "code",
   "execution_count": 2,
   "metadata": {},
   "outputs": [
    {
     "data": {
      "text/plain": [
       "\" Now that we've seen how to use some tree-based and boosting models, try\\n using them on the full set of data for the housing loan dataset we worked on\\n in this chapter. The full dataset has many more features. As always, you\\n may want to perform some data cleaning and preparation before using some\\n of the tree-based ML algorithms, although \\npycaret can auto-clean and\\n prepare data, and \\ncatboost and \\nlightgbm can handle missing values and\\n categorical columns (you need to convert the datatype from \\ncategory for \\nobject to\\n lightgbm , however). Explore the feature importance using\\n the methods we learned in the chapter. Be sure to write a summary of your\\n results\""
      ]
     },
     "execution_count": 2,
     "metadata": {},
     "output_type": "execute_result"
    }
   ],
   "source": [
    "\"\"\" Now that we've seen how to use some tree-based and boosting models, try\n",
    " using them on the full set of data for the housing loan dataset we worked on\n",
    " in this chapter. The full dataset has many more features. As always, you\n",
    " may want to perform some data cleaning and preparation before using some\n",
    " of the tree-based ML algorithms, although \n",
    "pycaret can auto-clean and\n",
    " prepare data, and \n",
    "catboost and \n",
    "lightgbm can handle missing values and\n",
    " categorical columns (you need to convert the datatype from \n",
    "category for \n",
    "object to\n",
    " lightgbm , however). Explore the feature importance using\n",
    " the methods we learned in the chapter. Be sure to write a summary of your\n",
    " results\"\"\""
   ]
  }
 ],
 "metadata": {
  "kernelspec": {
   "display_name": "Python 3",
   "language": "python",
   "name": "python3"
  },
  "language_info": {
   "codemirror_mode": {
    "name": "ipython",
    "version": 3
   },
   "file_extension": ".py",
   "mimetype": "text/x-python",
   "name": "python",
   "nbconvert_exporter": "python",
   "pygments_lexer": "ipython3",
   "version": "3.12.9"
  }
 },
 "nbformat": 4,
 "nbformat_minor": 2
}
